{
 "cells": [
  {
   "cell_type": "code",
   "execution_count": null,
   "id": "52ee0170-2c3f-4f68-82b2-bb8b7fe77575",
   "metadata": {},
   "outputs": [],
   "source": [
    "import os\n",
    "os.environ['HF_HOME'] = '/media/lobby/KINGSTON/.cache/huggingface'\n",
    "os.environ['HF_HOME']"
   ]
  },
  {
   "cell_type": "code",
   "execution_count": null,
   "id": "5d66b936-d82d-4b11-be12-ca3acef1c0d8",
   "metadata": {},
   "outputs": [],
   "source": [
    "\n",
    "import torch\n",
    "from transformers import AutoModelForSpeechSeq2Seq, AutoProcessor, pipeline\n",
    "from datasets import load_dataset\n",
    "\n",
    "device = \"cuda:0\" if torch.cuda.is_available() else \"cpu\"\n",
    "# device\n",
    "torch_dtype = torch.float16 if torch.cuda.is_available() else torch.float32\n",
    "# torch_dtype\n",
    "\n"
   ]
  },
  {
   "cell_type": "code",
   "execution_count": null,
   "id": "da6b888d-79bd-4368-89a5-1d40e65a8c19",
   "metadata": {},
   "outputs": [],
   "source": [
    "# model_id = \"openai/whisper-large-v3-turbo\"\n",
    "model_id = \"openai/whisper-tiny\"\n",
    "\n",
    "model = AutoModelForSpeechSeq2Seq.from_pretrained(\n",
    "    model_id, torch_dtype=torch_dtype, low_cpu_mem_usage=True, use_safetensors=True\n",
    ")\n",
    "model.to(device)"
   ]
  },
  {
   "cell_type": "code",
   "execution_count": null,
   "id": "da8fa7da-6378-41cf-bce7-0dec909c87d4",
   "metadata": {},
   "outputs": [],
   "source": [
    "processor = AutoProcessor.from_pretrained(model_id)"
   ]
  },
  {
   "cell_type": "code",
   "execution_count": null,
   "id": "9bfed7e3-e64a-40f3-bc58-34d47af2d70c",
   "metadata": {},
   "outputs": [],
   "source": [
    "pipe = pipeline(\n",
    "    \"automatic-speech-recognition\",\n",
    "    model=model,\n",
    "    tokenizer=processor.tokenizer,\n",
    "    feature_extractor=processor.feature_extractor,\n",
    "    chunk_length_s=30,\n",
    "    batch_size=1,  # batch size for inference - set based on your device\n",
    "    torch_dtype=torch_dtype,\n",
    "    device=device,\n",
    ")\n"
   ]
  },
  {
   "cell_type": "code",
   "execution_count": null,
   "id": "ca38ca2b-6697-4b39-bad9-d20ea17f11c0",
   "metadata": {},
   "outputs": [],
   "source": [
    "# dataset = load_dataset(\"distil-whisper/librispeech_long\", \"clean\", split=\"validation\")\n",
    "# sample = dataset[0][\"audio\"]\n",
    "# result = pipe(sample)\n",
    "\n",
    "# specify the local audio file\n",
    "result = pipe(\"input/audio/jp-short.mp3\")\n",
    "\n",
    "\n",
    "srtFilename = os.path.join(\"output/transcripts\", f\"jp-short.srt\")\n",
    "\n",
    "with open(srtFilename, 'a', encoding='utf-8') as srtFile:\n",
    "    srtFile.write(result[\"text\"])\n",
    "\n",
    "srtFilename"
   ]
  }
 ],
 "metadata": {
  "kernelspec": {
   "display_name": "Python 3 (ipykernel)",
   "language": "python",
   "name": "python3"
  },
  "language_info": {
   "codemirror_mode": {
    "name": "ipython",
    "version": 3
   },
   "file_extension": ".py",
   "mimetype": "text/x-python",
   "name": "python",
   "nbconvert_exporter": "python",
   "pygments_lexer": "ipython3",
   "version": "3.11.2"
  }
 },
 "nbformat": 4,
 "nbformat_minor": 5
}
