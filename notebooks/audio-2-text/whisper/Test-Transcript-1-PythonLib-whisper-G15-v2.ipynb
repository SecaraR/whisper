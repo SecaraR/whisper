{
 "cells": [
  {
   "cell_type": "code",
   "execution_count": 1,
   "id": "615e5894-8333-4ad2-bcb5-47db31beac50",
   "metadata": {},
   "outputs": [
    {
     "data": {
      "text/plain": [
       "'/home/lobby/.cache/huggingface'"
      ]
     },
     "execution_count": 1,
     "metadata": {},
     "output_type": "execute_result"
    }
   ],
   "source": [
    "import os\n",
    "os.environ['HF_HOME'] = '/home/lobby/.cache/huggingface'\n",
    "os.environ['HF_HOME']"
   ]
  },
  {
   "cell_type": "code",
   "execution_count": 2,
   "id": "c501dad2-2feb-403c-8680-4d2ae104932c",
   "metadata": {},
   "outputs": [],
   "source": [
    "import torch\n",
    "from transformers import AutoModelForSpeechSeq2Seq, AutoProcessor, pipeline\n",
    "from datasets import load_dataset"
   ]
  },
  {
   "cell_type": "code",
   "execution_count": 3,
   "id": "e4368a2c-8767-4423-bf8c-fa345cb9636e",
   "metadata": {},
   "outputs": [],
   "source": [
    "# device = \"cuda:0\" if torch.cuda.is_available() else \"cpu\"\n",
    "device = \"cpu\"\n",
    "\n",
    "torch_dtype = torch.float16 if torch.cuda.is_available() else torch.float32\n",
    "\n",
    "model_id = \"openai/whisper-large-v3-turbo\"\n",
    "# model_id = \"openai/whisper-tiny\"\n",
    "\n",
    "model = AutoModelForSpeechSeq2Seq.from_pretrained(\n",
    "    model_id, torch_dtype=torch_dtype, low_cpu_mem_usage=True, use_safetensors=True\n",
    ")\n",
    "model.to(device)\n",
    "\n",
    "processor = AutoProcessor.from_pretrained(model_id)"
   ]
  },
  {
   "cell_type": "code",
   "execution_count": 4,
   "id": "62811814-36ff-445c-9548-9838684f9fc7",
   "metadata": {},
   "outputs": [
    {
     "name": "stdout",
     "output_type": "stream",
     "text": [
      "Using device: cpu\n"
     ]
    }
   ],
   "source": [
    "print(f\"Using device: {device}\")"
   ]
  },
  {
   "cell_type": "code",
   "execution_count": null,
   "id": "b259d616-3ab4-4325-ab13-804414fbc978",
   "metadata": {},
   "outputs": [
    {
     "data": {
      "text/plain": [
       "(['G15/input/audio/en/short-1.mp3',\n",
       "  'G15/input/audio/en/short-2.mp3',\n",
       "  'G15/input/audio/en/short-3.mp3'],\n",
       " ['G15/output/en/short-1.txt',\n",
       "  'G15/output/en/short-2.txt',\n",
       "  'G15/output/en/short-3.txt'])"
      ]
     },
     "execution_count": 5,
     "metadata": {},
     "output_type": "execute_result"
    }
   ],
   "source": [
    "# List of file names\n",
    "file_names = [\n",
    "    \"Day 10- Enterprise Architecture certification Preparation - Architecture Governance 4\",\n",
    "    \"Day 11 - Enterprise Architecture certification Preparation - Building Blocks 4\",\n",
    "    \"Day 11 - Enterprise Architecture certification Preparation - TOGAF reference Models 4\",\n",
    "    \"Day 11 - Enterprise Architecture certification Preparation - Views and View Points 4\"\n",
    "]\n",
    "\n",
    "input_file_ext = \"mp3\"\n",
    "\n",
    "input_paths = [os.path.join(\"G15/input/audio/en\", f\"{file_name}.{input_file_ext}\") for file_name in file_names]\n",
    "output_paths = [os.path.join(\"G15/output/en\", f\"{file_name}.txt\") for file_name in file_names]\n",
    "\n",
    "input_paths, output_paths"
   ]
  },
  {
   "cell_type": "code",
   "execution_count": 6,
   "id": "87e9999a-1c26-4570-b5b6-b5256df1d9e7",
   "metadata": {},
   "outputs": [
    {
     "name": "stderr",
     "output_type": "stream",
     "text": [
      "Device set to use cpu\n",
      "/home/lobby/venvs/whisper-env/lib/python3.10/site-packages/transformers/models/whisper/generation_whisper.py:573: FutureWarning: The input name `inputs` is deprecated. Please make sure to use `input_features` instead.\n",
      "  warnings.warn(\n",
      "You have passed language=english, but also have set `forced_decoder_ids` to [[1, None], [2, 50360]] which creates a conflict. `forced_decoder_ids` will be ignored in favor of language=english.\n",
      "The attention mask is not set and cannot be inferred from input because pad token is same as eos token. As a consequence, you may observe unexpected behavior. Please pass your input's `attention_mask` to obtain reliable results.\n",
      "/home/lobby/venvs/whisper-env/lib/python3.10/site-packages/transformers/models/whisper/generation_whisper.py:573: FutureWarning: The input name `inputs` is deprecated. Please make sure to use `input_features` instead.\n",
      "  warnings.warn(\n",
      "/home/lobby/venvs/whisper-env/lib/python3.10/site-packages/transformers/models/whisper/generation_whisper.py:573: FutureWarning: The input name `inputs` is deprecated. Please make sure to use `input_features` instead.\n",
      "  warnings.warn(\n"
     ]
    },
    {
     "data": {
      "text/plain": [
       "['G15/output/en/short-1.txt',\n",
       " 'G15/output/en/short-2.txt',\n",
       " 'G15/output/en/short-3.txt']"
      ]
     },
     "execution_count": 6,
     "metadata": {},
     "output_type": "execute_result"
    }
   ],
   "source": [
    "\n",
    "\n",
    "pipe = pipeline(\n",
    "    \"automatic-speech-recognition\",\n",
    "    model=model,\n",
    "    tokenizer=processor.tokenizer,\n",
    "    feature_extractor=processor.feature_extractor,\n",
    "    torch_dtype=torch_dtype,\n",
    "    device=device,\n",
    "    chunk_length_s=30\n",
    "    # language='en'\n",
    ")\n",
    "\n",
    "# Process each file\n",
    "for input_path, output_path in zip(input_paths, output_paths):\n",
    "    # clear file content\n",
    "    open(output_path, 'w').close()\n",
    "\n",
    "    result = pipe(\n",
    "        input_path, \n",
    "        batch_size=1,\n",
    "        generate_kwargs={\"language\": \"english\"}\n",
    "        # generate_kwargs={\"language\": \"french\", \"task\": \"translate\"}\n",
    "    )\n",
    "\n",
    "    with open(output_path, 'a', encoding='utf-8') as srtFile:\n",
    "        srtFile.write(result[\"text\"])\n",
    "\n",
    "output_paths"
   ]
  }
 ],
 "metadata": {
  "kernelspec": {
   "display_name": "whisper-env",
   "language": "python",
   "name": "python3"
  },
  "language_info": {
   "codemirror_mode": {
    "name": "ipython",
    "version": 3
   },
   "file_extension": ".py",
   "mimetype": "text/x-python",
   "name": "python",
   "nbconvert_exporter": "python",
   "pygments_lexer": "ipython3",
   "version": "3.10.12"
  }
 },
 "nbformat": 4,
 "nbformat_minor": 5
}
