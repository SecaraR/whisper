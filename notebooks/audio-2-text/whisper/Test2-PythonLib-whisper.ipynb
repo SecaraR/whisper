{
 "cells": [
  {
   "cell_type": "markdown",
   "id": "51d43811-8f74-4f78-8d66-a95e9f89f219",
   "metadata": {},
   "source": [
    "Code\n",
    "```\n",
    "import os\n",
    "os.environ['HF_HOME'] = '/media/lobby/KINGSTON/.cache/huggingface'\n",
    "os.environ['HF_HOME']\n",
    "```"
   ]
  },
  {
   "cell_type": "markdown",
   "id": "c2b2b61f-a18b-4e37-8f47-128f4c38d215",
   "metadata": {},
   "source": [
    "Code\n",
    "```\n",
    "import torch\n",
    "from transformers import AutoModelForSpeechSeq2Seq, AutoProcessor, pipeline\n",
    "from datasets import load_dataset\n",
    "\n",
    "device = \"cuda:0\" if torch.cuda.is_available() else \"cpu\"\n",
    "# device\n",
    "torch_dtype = torch.float16 if torch.cuda.is_available() else torch.float32\n",
    "# torch_dtype\n",
    "```"
   ]
  },
  {
   "cell_type": "code",
   "execution_count": null,
   "id": "4c956dfc-c985-48dc-8cb5-4ae226fb143b",
   "metadata": {},
   "outputs": [],
   "source": [
    "from datetime import timedelta\n",
    "import os\n",
    "import whisper"
   ]
  },
  {
   "cell_type": "code",
   "execution_count": null,
   "id": "47f02e12-dd6c-403b-ae8d-4790d70dfe79",
   "metadata": {},
   "outputs": [],
   "source": [
    "\n",
    "# model_id = \"openai/whisper-large-v3-turbo\"\n",
    "\n",
    "# model = AutoModelForSpeechSeq2Seq.from_pretrained(\n",
    "#     model_id, torch_dtype=torch_dtype, low_cpu_mem_usage=True, use_safetensors=True\n",
    "# )\n",
    "# model.to(device)\n",
    "\n",
    "# path = \"input/audio/1st-whole.mp3\"\n",
    "path = \"input/audio/jp-short.mp3\"\n",
    "# path = \"input/audio/2nd-whole.mp3\"\n",
    "\n",
    "model = whisper.load_model(name=\"tiny\", download_root=\"/media/lobby/KINGSTON/.cache/whisper\") # Change this to your desired model\n",
    "# model = whisper.load_model(name=\"turbo\", download_root=\"/media/lobby/KINGSTON/.cache/whisper\") # Change this to your desired model\n",
    "\n",
    "print(\"Whisper model loaded.\")\n",
    "transcribe = model.transcribe(audio=path, language=\"japanese\")\n",
    "segments = transcribe['segments']\n",
    "\n",
    "srtFilename = os.path.join(\"output/SrtFiles\", f\"jp-short.srt\")\n",
    "open(srtFilename, 'w').close()\n",
    "\n",
    "for segment in segments:\n",
    "    startTime = str(0)+str(timedelta(seconds=int(segment['start'])))+',000'\n",
    "    endTime = str(0)+str(timedelta(seconds=int(segment['end'])))+',000'\n",
    "    text = segment['text']\n",
    "    segmentId = segment['id']+1\n",
    "    segment = f\"{segmentId}\\n{startTime} --> {endTime}\\n{text[1:] if text[0] is ' ' else text}\\n\\n\"\n",
    "\n",
    "    with open(srtFilename, 'a', encoding='utf-8') as srtFile:\n",
    "        srtFile.write(segment)\n",
    "\n",
    "srtFilename"
   ]
  },
  {
   "cell_type": "markdown",
   "id": "d740665f-1dad-4735-87e5-a1706972d9ae",
   "metadata": {},
   "source": [
    "Same code with the `transcribe_audio` method.\n",
    "\n",
    "```python\n",
    "def transcribe_audio(path):\n",
    "    # model_id = \"openai/whisper-large-v3-turbo\"\n",
    "    \n",
    "    # model = AutoModelForSpeechSeq2Seq.from_pretrained(\n",
    "    #     model_id, torch_dtype=torch_dtype, low_cpu_mem_usage=True, use_safetensors=True\n",
    "    # )\n",
    "    # model.to(device)\n",
    "\n",
    "    model = whisper.load_model(\"base\") # Change this to your desired model\n",
    "    \n",
    "    print(\"Whisper model loaded.\")\n",
    "    transcribe = model.transcribe(audio=path, language=\"japanese\")\n",
    "    segments = transcribe['segments']\n",
    "\n",
    "    for segment in segments:\n",
    "        startTime = str(0)+str(timedelta(seconds=int(segment['start'])))+',000'\n",
    "        endTime = str(0)+str(timedelta(seconds=int(segment['end'])))+',000'\n",
    "        text = segment['text']\n",
    "        segmentId = segment['id']+1\n",
    "        segment = f\"{segmentId}\\n{startTime} --> {endTime}\\n{text[1:] if text[0] is ' ' else text}\\n\\n\"\n",
    "\n",
    "        srtFilename = os.path.join(\"SrtFiles\", f\"VIDEO_FILENAME.srt\")\n",
    "        with open(srtFilename, 'a', encoding='utf-8') as srtFile:\n",
    "            srtFile.write(segment)\n",
    "\n",
    "    return srtFilename\n",
    "\n",
    "transcribe_audio(\"Japanese-Clinic/audio/jp-short.mp3\")\n",
    "```"
   ]
  }
 ],
 "metadata": {
  "kernelspec": {
   "display_name": "Python 3 (ipykernel)",
   "language": "python",
   "name": "python3"
  },
  "language_info": {
   "codemirror_mode": {
    "name": "ipython",
    "version": 3
   },
   "file_extension": ".py",
   "mimetype": "text/x-python",
   "name": "python",
   "nbconvert_exporter": "python",
   "pygments_lexer": "ipython3",
   "version": "3.11.2"
  }
 },
 "nbformat": 4,
 "nbformat_minor": 5
}
