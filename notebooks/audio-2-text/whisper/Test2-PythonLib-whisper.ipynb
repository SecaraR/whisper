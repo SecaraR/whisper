{
 "cells": [
  {
   "cell_type": "markdown",
   "id": "51d43811-8f74-4f78-8d66-a95e9f89f219",
   "metadata": {},
   "source": [
    "Code\n",
    "```\n",
    "import os\n",
    "os.environ['HF_HOME'] = '/media/lobby/KINGSTON/.cache/huggingface'\n",
    "os.environ['HF_HOME']\n",
    "```"
   ]
  },
  {
   "cell_type": "markdown",
   "id": "c2b2b61f-a18b-4e37-8f47-128f4c38d215",
   "metadata": {},
   "source": [
    "Code\n",
    "```\n",
    "import torch\n",
    "from transformers import AutoModelForSpeechSeq2Seq, AutoProcessor, pipeline\n",
    "from datasets import load_dataset\n",
    "\n",
    "device = \"cuda:0\" if torch.cuda.is_available() else \"cpu\"\n",
    "# device\n",
    "torch_dtype = torch.float16 if torch.cuda.is_available() else torch.float32\n",
    "# torch_dtype\n",
    "```"
   ]
  },
  {
   "cell_type": "markdown",
   "id": "d740665f-1dad-4735-87e5-a1706972d9ae",
   "metadata": {},
   "source": [
    "Same code with the `transcribe_audio` method.\n",
    "\n",
    "```python\n",
    "def transcribe_audio(path):\n",
    "    # model_id = \"openai/whisper-large-v3-turbo\"\n",
    "    \n",
    "    # model = AutoModelForSpeechSeq2Seq.from_pretrained(\n",
    "    #     model_id, torch_dtype=torch_dtype, low_cpu_mem_usage=True, use_safetensors=True\n",
    "    # )\n",
    "    # model.to(device)\n",
    "\n",
    "    model = whisper.load_model(\"base\") # Change this to your desired model\n",
    "    \n",
    "    print(\"Whisper model loaded.\")\n",
    "    transcribe = model.transcribe(audio=path, language=\"japanese\")\n",
    "    segments = transcribe['segments']\n",
    "\n",
    "    for segment in segments:\n",
    "        startTime = str(0)+str(timedelta(seconds=int(segment['start'])))+',000'\n",
    "        endTime = str(0)+str(timedelta(seconds=int(segment['end'])))+',000'\n",
    "        text = segment['text']\n",
    "        segmentId = segment['id']+1\n",
    "        segment = f\"{segmentId}\\n{startTime} --> {endTime}\\n{text[1:] if text[0] is ' ' else text}\\n\\n\"\n",
    "\n",
    "        srtFilename = os.path.join(\"SrtFiles\", f\"VIDEO_FILENAME.srt\")\n",
    "        with open(srtFilename, 'a', encoding='utf-8') as srtFile:\n",
    "            srtFile.write(segment)\n",
    "\n",
    "    return srtFilename\n",
    "\n",
    "transcribe_audio(\"Japanese-Clinic/audio/jp-short.mp3\")\n",
    "```"
   ]
  },
  {
   "cell_type": "markdown",
   "id": "fa092d8d-3ac0-4097-985d-f4b9cd87bf8c",
   "metadata": {},
   "source": [
    "Tests\n",
    "```python\n",
    "var_text = 'ab'\n",
    "# var_text = 'a'\n",
    "# var_text = ' '\n",
    "# var_text = ''\n",
    "# len(var_text)\n",
    "# var_text[1:] #, var_text[0]\n",
    "# var_text[1:] if (len(var_text) == 0 or var_text[0]) is ' ' else var_text\n",
    "var_text[1:] if (len(var_text) == 0 or var_text[0]) is ' ' else var_text\n",
    "```"
   ]
  },
  {
   "cell_type": "code",
   "execution_count": 1,
   "id": "4c956dfc-c985-48dc-8cb5-4ae226fb143b",
   "metadata": {},
   "outputs": [],
   "source": [
    "from datetime import timedelta\n",
    "import os\n",
    "import whisper"
   ]
  },
  {
   "cell_type": "code",
   "execution_count": 2,
   "id": "47f02e12-dd6c-403b-ae8d-4790d70dfe79",
   "metadata": {},
   "outputs": [
    {
     "data": {
      "text/plain": [
       "('input/audio/1st-whole.mp3', 'output/SrtFiles/1st-whole.srt')"
      ]
     },
     "execution_count": 2,
     "metadata": {},
     "output_type": "execute_result"
    }
   ],
   "source": [
    "# model_id = \"openai/whisper-large-v3-turbo\"\n",
    "\n",
    "# model = AutoModelForSpeechSeq2Seq.from_pretrained(\n",
    "#     model_id, torch_dtype=torch_dtype, low_cpu_mem_usage=True, use_safetensors=True\n",
    "# )\n",
    "# model.to(device)\n",
    "\n",
    "fileName = \"1st-whole\"\n",
    "\n",
    "# path = \"input/audio/1st-whole.mp3\"\n",
    "inputFile = os.path.join(\"input/audio\", f\"{fileName}.mp3\")\n",
    "\n",
    "outputFile = os.path.join(\"output/SrtFiles\", f\"{fileName}.srt\")\n",
    "\n",
    "inputFile, outputFile"
   ]
  },
  {
   "cell_type": "code",
   "execution_count": 3,
   "id": "841099b6-0d4b-4d84-ba58-b2ac923d409f",
   "metadata": {},
   "outputs": [
    {
     "name": "stderr",
     "output_type": "stream",
     "text": [
      "<>:16: SyntaxWarning: \"is\" with a literal. Did you mean \"==\"?\n",
      "<>:16: SyntaxWarning: \"is\" with a literal. Did you mean \"==\"?\n",
      "/media/lobby/KINGSTON/venvs/whisper-env/lib/python3.11/site-packages/whisper/__init__.py:150: FutureWarning: You are using `torch.load` with `weights_only=False` (the current default value), which uses the default pickle module implicitly. It is possible to construct malicious pickle data which will execute arbitrary code during unpickling (See https://github.com/pytorch/pytorch/blob/main/SECURITY.md#untrusted-models for more details). In a future release, the default value for `weights_only` will be flipped to `True`. This limits the functions that could be executed during unpickling. Arbitrary objects will no longer be allowed to be loaded via this mode unless they are explicitly allowlisted by the user via `torch.serialization.add_safe_globals`. We recommend you start setting `weights_only=True` for any use case where you don't have full control of the loaded file. Please open an issue on GitHub for any issues related to this experimental feature.\n",
      "  checkpoint = torch.load(fp, map_location=device)\n"
     ]
    },
    {
     "name": "stdout",
     "output_type": "stream",
     "text": [
      "Whisper model loaded.\n"
     ]
    },
    {
     "name": "stderr",
     "output_type": "stream",
     "text": [
      "/media/lobby/KINGSTON/venvs/whisper-env/lib/python3.11/site-packages/whisper/transcribe.py:126: UserWarning: FP16 is not supported on CPU; using FP32 instead\n",
      "  warnings.warn(\"FP16 is not supported on CPU; using FP32 instead\")\n",
      "/tmp/ipykernel_2706/2214248435.py:16: SyntaxWarning: \"is\" with a literal. Did you mean \"==\"?\n",
      "  segment = f\"{segmentId}\\n{startTime} --> {endTime}\\n{var_text[1:] if (len(var_text) == 0 or var_text[0]) is ' ' else var_text}\\n\\n\"\n"
     ]
    },
    {
     "ename": "NameError",
     "evalue": "name 'var_text' is not defined",
     "output_type": "error",
     "traceback": [
      "\u001b[0;31m---------------------------------------------------------------------------\u001b[0m",
      "\u001b[0;31mNameError\u001b[0m                                 Traceback (most recent call last)",
      "Cell \u001b[0;32mIn[3], line 16\u001b[0m\n\u001b[1;32m     14\u001b[0m text \u001b[38;5;241m=\u001b[39m segment[\u001b[38;5;124m'\u001b[39m\u001b[38;5;124mtext\u001b[39m\u001b[38;5;124m'\u001b[39m]\n\u001b[1;32m     15\u001b[0m segmentId \u001b[38;5;241m=\u001b[39m segment[\u001b[38;5;124m'\u001b[39m\u001b[38;5;124mid\u001b[39m\u001b[38;5;124m'\u001b[39m]\u001b[38;5;241m+\u001b[39m\u001b[38;5;241m1\u001b[39m\n\u001b[0;32m---> 16\u001b[0m segment \u001b[38;5;241m=\u001b[39m \u001b[38;5;124mf\u001b[39m\u001b[38;5;124m\"\u001b[39m\u001b[38;5;132;01m{\u001b[39;00msegmentId\u001b[38;5;132;01m}\u001b[39;00m\u001b[38;5;130;01m\\n\u001b[39;00m\u001b[38;5;132;01m{\u001b[39;00mstartTime\u001b[38;5;132;01m}\u001b[39;00m\u001b[38;5;124m --> \u001b[39m\u001b[38;5;132;01m{\u001b[39;00mendTime\u001b[38;5;132;01m}\u001b[39;00m\u001b[38;5;130;01m\\n\u001b[39;00m\u001b[38;5;132;01m{\u001b[39;00mvar_text[\u001b[38;5;241m1\u001b[39m:]\u001b[38;5;250m \u001b[39m\u001b[38;5;28;01mif\u001b[39;00m\u001b[38;5;250m \u001b[39m(\u001b[38;5;28mlen\u001b[39m(\u001b[43mvar_text\u001b[49m)\u001b[38;5;250m \u001b[39m\u001b[38;5;241m==\u001b[39m\u001b[38;5;250m \u001b[39m\u001b[38;5;241m0\u001b[39m\u001b[38;5;250m \u001b[39m\u001b[38;5;129;01mor\u001b[39;00m\u001b[38;5;250m \u001b[39mvar_text[\u001b[38;5;241m0\u001b[39m])\u001b[38;5;250m \u001b[39m\u001b[38;5;129;01mis\u001b[39;00m\u001b[38;5;250m \u001b[39m\u001b[38;5;124m'\u001b[39m\u001b[38;5;124m \u001b[39m\u001b[38;5;124m'\u001b[39m\u001b[38;5;250m \u001b[39m\u001b[38;5;28;01melse\u001b[39;00m\u001b[38;5;250m \u001b[39mvar_text\u001b[38;5;132;01m}\u001b[39;00m\u001b[38;5;130;01m\\n\u001b[39;00m\u001b[38;5;130;01m\\n\u001b[39;00m\u001b[38;5;124m\"\u001b[39m\n\u001b[1;32m     18\u001b[0m \u001b[38;5;28;01mwith\u001b[39;00m \u001b[38;5;28mopen\u001b[39m(outputFile, \u001b[38;5;124m'\u001b[39m\u001b[38;5;124ma\u001b[39m\u001b[38;5;124m'\u001b[39m, encoding\u001b[38;5;241m=\u001b[39m\u001b[38;5;124m'\u001b[39m\u001b[38;5;124mutf-8\u001b[39m\u001b[38;5;124m'\u001b[39m) \u001b[38;5;28;01mas\u001b[39;00m srtFile:\n\u001b[1;32m     19\u001b[0m     srtFile\u001b[38;5;241m.\u001b[39mwrite(segment)\n",
      "\u001b[0;31mNameError\u001b[0m: name 'var_text' is not defined"
     ]
    }
   ],
   "source": [
    "\n",
    "# model = whisper.load_model(name=\"tiny\", download_root=\"/media/lobby/KINGSTON/.cache/whisper\") # Change this to your desired model\n",
    "model = whisper.load_model(name=\"turbo\", download_root=\"/media/lobby/KINGSTON/.cache/whisper\") # Change this to your desired model\n",
    "\n",
    "print(\"Whisper model loaded.\")\n",
    "transcribe = model.transcribe(audio=inputFile, language=\"japanese\")\n",
    "segments = transcribe['segments']"
   ]
  },
  {
   "cell_type": "code",
   "execution_count": 4,
   "id": "c9985df8-c854-4f8f-a217-a194f895f870",
   "metadata": {},
   "outputs": [
    {
     "name": "stderr",
     "output_type": "stream",
     "text": [
      "<>:9: SyntaxWarning: \"is\" with a literal. Did you mean \"==\"?\n",
      "<>:9: SyntaxWarning: \"is\" with a literal. Did you mean \"==\"?\n",
      "/tmp/ipykernel_2706/1281969889.py:9: SyntaxWarning: \"is\" with a literal. Did you mean \"==\"?\n",
      "  segment = f\"{segmentId}\\n{startTime} --> {endTime}\\n{text[1:] if (len(text) == 0 or text[0]) is ' ' else text}\\n\\n\"\n"
     ]
    },
    {
     "data": {
      "text/plain": [
       "'output/SrtFiles/1st-whole.srt'"
      ]
     },
     "execution_count": 4,
     "metadata": {},
     "output_type": "execute_result"
    }
   ],
   "source": [
    "# clear file content\n",
    "open(outputFile, 'w').close()\n",
    "\n",
    "for segment in segments:\n",
    "    startTime = str(0)+str(timedelta(seconds=int(segment['start'])))+',000'\n",
    "    endTime = str(0)+str(timedelta(seconds=int(segment['end'])))+',000'\n",
    "    text = segment['text']\n",
    "    segmentId = segment['id']+1\n",
    "    segment = f\"{segmentId}\\n{startTime} --> {endTime}\\n{text[1:] if (len(text) == 0 or text[0]) is ' ' else text}\\n\\n\"\n",
    "\n",
    "    with open(outputFile, 'a', encoding='utf-8') as srtFile:\n",
    "        srtFile.write(segment)\n",
    "\n",
    "outputFile"
   ]
  }
 ],
 "metadata": {
  "kernelspec": {
   "display_name": "Python 3 (ipykernel)",
   "language": "python",
   "name": "python3"
  },
  "language_info": {
   "codemirror_mode": {
    "name": "ipython",
    "version": 3
   },
   "file_extension": ".py",
   "mimetype": "text/x-python",
   "name": "python",
   "nbconvert_exporter": "python",
   "pygments_lexer": "ipython3",
   "version": "3.11.2"
  }
 },
 "nbformat": 4,
 "nbformat_minor": 5
}
