{
 "cells": [
  {
   "cell_type": "code",
   "execution_count": 1,
   "id": "615e5894-8333-4ad2-bcb5-47db31beac50",
   "metadata": {},
   "outputs": [
    {
     "data": {
      "text/plain": [
       "'/home/lobby/.cache/huggingface'"
      ]
     },
     "execution_count": 1,
     "metadata": {},
     "output_type": "execute_result"
    }
   ],
   "source": [
    "import os\n",
    "os.environ['HF_HOME'] = '/home/lobby/.cache/huggingface'\n",
    "os.environ['HF_HOME']"
   ]
  },
  {
   "cell_type": "code",
   "execution_count": 2,
   "id": "c501dad2-2feb-403c-8680-4d2ae104932c",
   "metadata": {},
   "outputs": [],
   "source": [
    "import torch\n",
    "from transformers import AutoModelForSpeechSeq2Seq, AutoProcessor, pipeline\n",
    "from datasets import load_dataset"
   ]
  },
  {
   "cell_type": "code",
   "execution_count": 3,
   "id": "e4368a2c-8767-4423-bf8c-fa345cb9636e",
   "metadata": {},
   "outputs": [],
   "source": [
    "device = \"cuda:0\" if torch.cuda.is_available() else \"cpu\"\n",
    "\n",
    "torch_dtype = torch.float16 if torch.cuda.is_available() else torch.float32\n",
    "\n",
    "model_id = \"openai/whisper-large-v3-turbo\"\n",
    "# model_id = \"openai/whisper-tiny\"\n",
    "\n",
    "model = AutoModelForSpeechSeq2Seq.from_pretrained(\n",
    "    model_id, torch_dtype=torch_dtype, low_cpu_mem_usage=True, use_safetensors=True\n",
    ")\n",
    "model.to(device)\n",
    "\n",
    "processor = AutoProcessor.from_pretrained(model_id)"
   ]
  },
  {
   "cell_type": "code",
   "execution_count": 4,
   "id": "62811814-36ff-445c-9548-9838684f9fc7",
   "metadata": {},
   "outputs": [
    {
     "name": "stdout",
     "output_type": "stream",
     "text": [
      "Using device: cuda\n"
     ]
    }
   ],
   "source": [
    "print(f\"Using device: {device}\")"
   ]
  },
  {
   "cell_type": "code",
   "execution_count": 5,
   "id": "b259d616-3ab4-4325-ab13-804414fbc978",
   "metadata": {},
   "outputs": [
    {
     "data": {
      "text/plain": [
       "('input/audio/en/Day 10- Enterprise Architecture certification Preparation - Requirement Management (ADM).mp3',\n",
       " 'output/en/Day 10- Enterprise Architecture certification Preparation - Requirement Management (ADM).txt')"
      ]
     },
     "execution_count": 5,
     "metadata": {},
     "output_type": "execute_result"
    }
   ],
   "source": [
    "# file_name = \"Intro-To-Image-Generation-00.00.00.000-00.00.15.269\"\n",
    "file_name = \"Day 10- Enterprise Architecture certification Preparation - Requirement Management (ADM)\"\n",
    "\n",
    "input_file_ext = \"mp3\"\n",
    "\n",
    "input_path = os.path.join(\"input/audio/en\", f\"{file_name}.{input_file_ext}\")\n",
    "\n",
    "\n",
    "output_path = os.path.join(\"output/en\", f\"{file_name}.txt\")\n",
    "\n",
    "input_path, output_path"
   ]
  },
  {
   "cell_type": "code",
   "execution_count": null,
   "id": "87e9999a-1c26-4570-b5b6-b5256df1d9e7",
   "metadata": {},
   "outputs": [],
   "source": [
    "\n",
    "\n",
    "pipe = pipeline(\n",
    "    \"automatic-speech-recognition\",\n",
    "    model=model,\n",
    "    tokenizer=processor.tokenizer,\n",
    "    feature_extractor=processor.feature_extractor,\n",
    "    torch_dtype=torch_dtype,\n",
    "    device=device,\n",
    "    chunk_length_s=30,\n",
    "    # language='en'\n",
    ")\n",
    "\n",
    "\n",
    "\n",
    "# clear file content\n",
    "open(output_path, 'w').close()\n",
    "\n",
    "\n",
    "result = pipe(\n",
    "    input_path, \n",
    "    batch_size=1,\n",
    "    generate_kwargs={\"language\": \"english\"}\n",
    "    # generate_kwargs={\"language\": \"french\", \"task\": \"translate\"}\n",
    ")\n",
    "\n",
    "with open(output_path, 'a', encoding='utf-8') as srtFile:\n",
    "    srtFile.write(result[\"text\"])\n",
    "\n",
    "output_path"
   ]
  }
 ],
 "metadata": {
  "kernelspec": {
   "display_name": "Python 3 (ipykernel)",
   "language": "python",
   "name": "python3"
  },
  "language_info": {
   "codemirror_mode": {
    "name": "ipython",
    "version": 3
   },
   "file_extension": ".py",
   "mimetype": "text/x-python",
   "name": "python",
   "nbconvert_exporter": "python",
   "pygments_lexer": "ipython3",
   "version": "3.10.12"
  }
 },
 "nbformat": 4,
 "nbformat_minor": 5
}
