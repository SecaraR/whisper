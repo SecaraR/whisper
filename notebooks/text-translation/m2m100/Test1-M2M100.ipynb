{
 "cells": [
  {
   "cell_type": "code",
   "execution_count": 1,
   "id": "35a99588-94a7-49d7-85fe-2d98b7d6b1f3",
   "metadata": {},
   "outputs": [
    {
     "data": {
      "text/plain": [
       "'/media/lobby/KINGSTON/.cache/huggingface'"
      ]
     },
     "execution_count": 1,
     "metadata": {},
     "output_type": "execute_result"
    }
   ],
   "source": [
    "import os\n",
    "os.environ['HF_HOME'] = '/media/lobby/KINGSTON/.cache/huggingface'\n",
    "os.environ['HF_HOME']"
   ]
  },
  {
   "cell_type": "code",
   "execution_count": 2,
   "id": "651e9c60-b29d-49a5-aba1-7a68cfb92d12",
   "metadata": {},
   "outputs": [],
   "source": [
    "from transformers import M2M100ForConditionalGeneration, M2M100Tokenizer"
   ]
  },
  {
   "cell_type": "code",
   "execution_count": 3,
   "id": "211befd8-f620-4a22-98a8-d788700ccd04",
   "metadata": {},
   "outputs": [],
   "source": [
    "model = M2M100ForConditionalGeneration.from_pretrained(\"facebook/m2m100_418M\")\n",
    "tokenizer = M2M100Tokenizer.from_pretrained(\"facebook/m2m100_418M\")"
   ]
  },
  {
   "cell_type": "markdown",
   "id": "69d2cabb-c52e-4ffe-8977-3acda1b0647a",
   "metadata": {},
   "source": [
    "Py Code\n",
    "```python\n",
    "hi_text = \"जीवन एक चॉकलेट बॉक्स की तरह है।\"\n",
    "```"
   ]
  },
  {
   "cell_type": "markdown",
   "id": "16e6e106-d185-4501-832d-de677f05ff74",
   "metadata": {},
   "source": [
    "Py Code\n",
    "```python\n",
    "# translate Hindi to French\n",
    "tokenizer.src_lang = \"hi\"\n",
    "encoded_hi = tokenizer(hi_text, return_tensors=\"pt\")\n",
    "generated_tokens = model.generate(**encoded_hi, forced_bos_token_id=tokenizer.get_lang_id(\"fr\"))\n",
    "tokenizer.batch_decode(generated_tokens, skip_special_tokens=True)\n",
    "# => \"La vie est comme une boîte de chocolat.\"\n",
    "````"
   ]
  },
  {
   "cell_type": "code",
   "execution_count": 4,
   "id": "3829ead0-4597-4bf7-b5cc-5b970e1c7712",
   "metadata": {},
   "outputs": [
    {
     "data": {
      "text/plain": [
       "('input/1st-video_turbo-model_whole-audio-file_test-segment.txt',\n",
       " 'output/1st-video_turbo-model_whole-audio-file_test-segment.txt')"
      ]
     },
     "execution_count": 4,
     "metadata": {},
     "output_type": "execute_result"
    }
   ],
   "source": [
    "fileName = \"1st-video_turbo-model_whole-audio-file_test-segment\"\n",
    "\n",
    "\n",
    "# input_path = r\"a.txt\"\n",
    "input_path = os.path.join(\"input\", f\"{fileName}.txt\")\n",
    "\n",
    "# output_path = \"/content/aa.txt\"\n",
    "output_path = os.path.join(\"output\", f\"{fileName}.txt\")\n",
    "input_path, output_path"
   ]
  },
  {
   "cell_type": "code",
   "execution_count": 20,
   "id": "bae4fe52",
   "metadata": {},
   "outputs": [
    {
     "name": "stdout",
     "output_type": "stream",
     "text": [
      "a\n"
     ]
    }
   ],
   "source": [
    "# article = \"asd\"\n",
    "\n",
    "# print(article[0])\n",
    "\n",
    "# # article = article[1:] if (len(article) == 0 or article[0]) is ' ' else article\n",
    "\n",
    "# # print(article)\n"
   ]
  },
  {
   "cell_type": "code",
   "execution_count": 10,
   "id": "701a8bc9",
   "metadata": {},
   "outputs": [
    {
     "data": {
      "text/plain": [
       "False"
      ]
     },
     "execution_count": 10,
     "metadata": {},
     "output_type": "execute_result"
    }
   ],
   "source": [
    "# import re\n",
    "\n",
    "# # bool(re.match('^[\\d:,\\s\\-\\>]+$', '00:00:00,000 --> 00:00:22,000'))\n",
    "# # bool(re.match('^[\\d:,\\s\\-\\>]+$', '0a1'))\n",
    "# # bool(re.match('^[\\d:,\\s\\-\\>]+$', '3'))\n",
    "# bool(re.match('^[\\d:]+$', '-'))"
   ]
  },
  {
   "cell_type": "code",
   "execution_count": null,
   "id": "4ec14edd",
   "metadata": {},
   "outputs": [
    {
     "data": {
      "text/plain": [
       "'output/1st-video_turbo-model_whole-audio-file_test-segment.txt'"
      ]
     },
     "execution_count": 13,
     "metadata": {},
     "output_type": "execute_result"
    }
   ],
   "source": [
    "import re\n",
    "\n",
    "input_file = open(input_path, 'r', encoding='utf-8')\n",
    "\n",
    "# clear file content\n",
    "open(output_path, 'w').close()\n",
    "\n",
    "\n",
    "\n",
    "# translate Japanese to English\n",
    "tokenizer.src_lang = \"ja\"\n",
    "\n",
    "\n",
    "with open(output_path, 'w', encoding='utf-8') as f:\n",
    "    for article in input_file:\n",
    "        inputs = tokenizer(article, return_tensors=\"pt\")\n",
    "    \n",
    "        # print(article)\n",
    "        # print(inputs)\n",
    "\n",
    "\n",
    "        if (bool(re.match('^[\\d:,\\s\\-\\>]+$', article)) == True):\n",
    "\n",
    "            if (bool(re.match('^[\\d:]+$', article)) == True):\n",
    "                output =  '\\n' + article\n",
    "            else:\n",
    "                output = article\n",
    "\n",
    "        else:\n",
    "            encoded_jp = tokenizer(article, return_tensors=\"pt\")\n",
    "            generated_tokens = model.generate(**encoded_jp, forced_bos_token_id=tokenizer.get_lang_id(\"en\"))\n",
    "                    \n",
    "            output = tokenizer.batch_decode(generated_tokens, skip_special_tokens=True)[0]\n",
    "\n",
    "        f.writelines(output)\n",
    "\n",
    "output_path"
   ]
  }
 ],
 "metadata": {
  "kernelspec": {
   "display_name": "whisper-env",
   "language": "python",
   "name": "python3"
  },
  "language_info": {
   "codemirror_mode": {
    "name": "ipython",
    "version": 3
   },
   "file_extension": ".py",
   "mimetype": "text/x-python",
   "name": "python",
   "nbconvert_exporter": "python",
   "pygments_lexer": "ipython3",
   "version": "3.11.2"
  }
 },
 "nbformat": 4,
 "nbformat_minor": 5
}
